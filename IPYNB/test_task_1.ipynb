{
 "cells": [
  {
   "cell_type": "code",
   "execution_count": 1,
   "metadata": {},
   "outputs": [
    {
     "name": "stdout",
     "output_type": "stream",
     "text": [
      "[(7, 3), (9, 1), (2, 8)]\n",
      "[(-5, -7), (-8, -4)]\n",
      "[(5, -1), (-3, 7), (8, -4)]\n",
      "[(2, 4), (3, 3)]\n",
      "[]\n",
      "[]\n",
      "[(7, 7)]\n",
      "[(17, 83), (25, 75), (29, 71), (49, 51), (3, 97), (19, 81), (6, 94), (38, 62), (32, 68), (34, 66), (40, 60), (42, 58), (27, 73), (30, 70), (1, 99), (9, 91), (13, 87), (21, 79), (15, 85), (47, 53), (44, 56), (18, 82), (16, 84), (24, 76), (26, 74), (11, 89), (23, 77), (48, 52), (4, 96), (20, 80), (5, 95), (37, 63), (35, 65), (28, 72), (10, 90), (8, 92), (2, 98), (7, 93), (39, 61), (14, 86), (46, 54), (33, 67), (41, 59), (45, 55), (31, 69), (12, 88), (22, 78), (43, 57), (36, 64)]\n",
      "[]\n",
      "[]\n"
     ]
    },
    {
     "ename": "TypeError",
     "evalue": "Input list should contain only integers.",
     "output_type": "error",
     "traceback": [
      "\u001b[1;31m---------------------------------------------------------------------------\u001b[0m",
      "\u001b[1;31mTypeError\u001b[0m                                 Traceback (most recent call last)",
      "\u001b[1;32m<ipython-input-1-ee1846e81a9b>\u001b[0m in \u001b[0;36m<module>\u001b[1;34m\u001b[0m\n\u001b[0;32m      1\u001b[0m \u001b[1;32mimport\u001b[0m \u001b[0munittest\u001b[0m\u001b[1;33m\u001b[0m\u001b[1;33m\u001b[0m\u001b[0m\n\u001b[1;32m----> 2\u001b[1;33m \u001b[1;32mfrom\u001b[0m \u001b[0mtask_1\u001b[0m \u001b[1;32mimport\u001b[0m \u001b[0mfind_pairs_recursive\u001b[0m\u001b[1;33m\u001b[0m\u001b[1;33m\u001b[0m\u001b[0m\n\u001b[0m\u001b[0;32m      3\u001b[0m \u001b[1;33m\u001b[0m\u001b[0m\n\u001b[0;32m      4\u001b[0m \u001b[1;32mclass\u001b[0m \u001b[0mTestFindPairsRecursive\u001b[0m\u001b[1;33m(\u001b[0m\u001b[0munittest\u001b[0m\u001b[1;33m.\u001b[0m\u001b[0mTestCase\u001b[0m\u001b[1;33m)\u001b[0m\u001b[1;33m:\u001b[0m\u001b[1;33m\u001b[0m\u001b[1;33m\u001b[0m\u001b[0m\n\u001b[0;32m      5\u001b[0m     \u001b[1;32mdef\u001b[0m \u001b[0mtest_find_pairs\u001b[0m\u001b[1;33m(\u001b[0m\u001b[0mself\u001b[0m\u001b[1;33m)\u001b[0m\u001b[1;33m:\u001b[0m\u001b[1;33m\u001b[0m\u001b[1;33m\u001b[0m\u001b[0m\n",
      "\u001b[1;32m~\\Desktop\\MY Folder\\Interview Prep\\Databeat\\Final Tasks\\IPYNB\\task_1.py\u001b[0m in \u001b[0;36m<module>\u001b[1;34m\u001b[0m\n\u001b[0;32m    147\u001b[0m \u001b[0mnums\u001b[0m \u001b[1;33m=\u001b[0m \u001b[1;33m[\u001b[0m\u001b[1;36m1.5\u001b[0m\u001b[1;33m,\u001b[0m \u001b[1;36m2.5\u001b[0m\u001b[1;33m,\u001b[0m \u001b[1;36m3.5\u001b[0m\u001b[1;33m,\u001b[0m \u001b[1;36m4.5\u001b[0m\u001b[1;33m,\u001b[0m \u001b[1;36m5.5\u001b[0m\u001b[1;33m]\u001b[0m\u001b[1;33m\u001b[0m\u001b[1;33m\u001b[0m\u001b[0m\n\u001b[0;32m    148\u001b[0m \u001b[0mk\u001b[0m \u001b[1;33m=\u001b[0m \u001b[1;36m7\u001b[0m\u001b[1;33m\u001b[0m\u001b[1;33m\u001b[0m\u001b[0m\n\u001b[1;32m--> 149\u001b[1;33m \u001b[0mresult\u001b[0m \u001b[1;33m=\u001b[0m \u001b[0mfind_pairs_recursive\u001b[0m\u001b[1;33m(\u001b[0m\u001b[0mnums\u001b[0m\u001b[1;33m,\u001b[0m \u001b[0mk\u001b[0m\u001b[1;33m)\u001b[0m\u001b[1;33m\u001b[0m\u001b[1;33m\u001b[0m\u001b[0m\n\u001b[0m\u001b[0;32m    150\u001b[0m \u001b[0mprint\u001b[0m\u001b[1;33m(\u001b[0m\u001b[0mresult\u001b[0m\u001b[1;33m)\u001b[0m\u001b[1;33m\u001b[0m\u001b[1;33m\u001b[0m\u001b[0m\n\u001b[0;32m    151\u001b[0m \u001b[1;33m\u001b[0m\u001b[0m\n",
      "\u001b[1;32m~\\Desktop\\MY Folder\\Interview Prep\\Databeat\\Final Tasks\\IPYNB\\task_1.py\u001b[0m in \u001b[0;36mfind_pairs_recursive\u001b[1;34m(nums, k)\u001b[0m\n\u001b[0;32m     23\u001b[0m     \u001b[1;31m# Check if all elements in the input list are integers\u001b[0m\u001b[1;33m\u001b[0m\u001b[1;33m\u001b[0m\u001b[1;33m\u001b[0m\u001b[0m\n\u001b[0;32m     24\u001b[0m     \u001b[1;32mif\u001b[0m \u001b[0many\u001b[0m\u001b[1;33m(\u001b[0m\u001b[1;32mnot\u001b[0m \u001b[0misinstance\u001b[0m\u001b[1;33m(\u001b[0m\u001b[0mnum\u001b[0m\u001b[1;33m,\u001b[0m \u001b[0mint\u001b[0m\u001b[1;33m)\u001b[0m \u001b[1;32mfor\u001b[0m \u001b[0mnum\u001b[0m \u001b[1;32min\u001b[0m \u001b[0mnums\u001b[0m\u001b[1;33m)\u001b[0m\u001b[1;33m:\u001b[0m\u001b[1;33m\u001b[0m\u001b[1;33m\u001b[0m\u001b[0m\n\u001b[1;32m---> 25\u001b[1;33m         \u001b[1;32mraise\u001b[0m \u001b[0mTypeError\u001b[0m\u001b[1;33m(\u001b[0m\u001b[1;34m\"Input list should contain only integers.\"\u001b[0m\u001b[1;33m)\u001b[0m\u001b[1;33m\u001b[0m\u001b[1;33m\u001b[0m\u001b[0m\n\u001b[0m\u001b[0;32m     26\u001b[0m \u001b[1;33m\u001b[0m\u001b[0m\n\u001b[0;32m     27\u001b[0m     \u001b[1;31m# Use a set to store unique pairs and processed indices to avoid duplicates\u001b[0m\u001b[1;33m\u001b[0m\u001b[1;33m\u001b[0m\u001b[1;33m\u001b[0m\u001b[0m\n",
      "\u001b[1;31mTypeError\u001b[0m: Input list should contain only integers."
     ]
    }
   ],
   "source": [
    "import unittest\n",
    "from task_1 import find_pairs_recursive\n",
    "\n",
    "class TestFindPairsRecursive(unittest.TestCase):\n",
    "    def test_find_pairs(self):\n",
    "        # Test case 1: General case\n",
    "        nums_1 = [1, 2, 3, 4, 5, 6]\n",
    "        k_1 = 7\n",
    "        self.assertEqual(find_pairs_recursive(nums_1, k_1), [(1, 6), (2, 5), (3, 4)])\n",
    "\n",
    "        # Test case 2: No pairs found\n",
    "        nums_2 = [1, 2, 3, 4, 5]\n",
    "        k_2 = 20\n",
    "        self.assertEqual(find_pairs_recursive(nums_2, k_2), [])\n",
    "\n",
    "        # Test case 3: Empty list\n",
    "        nums_3 = []\n",
    "        k_3 = 5\n",
    "        self.assertEqual(find_pairs_recursive(nums_3, k_3), [])\n",
    "\n",
    "        # Test case 4: List with duplicate elements\n",
    "        nums_4 = [3, 3, 4, 4, 5, 5]\n",
    "        k_4 = 8\n",
    "        self.assertEqual(find_pairs_recursive(nums_4, k_4), [(3, 5), (4, 4)])\n",
    "\n",
    "        # Test case 5: List with non-integer elements\n",
    "        nums_5 = [1, 2, 'a', 4, 5]\n",
    "        k_5 = 6\n",
    "        with self.assertRaises(TypeError):\n",
    "            find_pairs_recursive(nums_5, k_5)\n",
    "\n",
    "if __name__ == '__main__':\n",
    "    unittest.main()\n"
   ]
  }
 ],
 "metadata": {
  "kernelspec": {
   "display_name": "Python 3",
   "language": "python",
   "name": "python3"
  },
  "language_info": {
   "codemirror_mode": {
    "name": "ipython",
    "version": 3
   },
   "file_extension": ".py",
   "mimetype": "text/x-python",
   "name": "python",
   "nbconvert_exporter": "python",
   "pygments_lexer": "ipython3",
   "version": "3.7.3"
  }
 },
 "nbformat": 4,
 "nbformat_minor": 2
}
